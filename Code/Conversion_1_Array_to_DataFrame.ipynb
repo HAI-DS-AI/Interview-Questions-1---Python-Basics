{
  "nbformat": 4,
  "nbformat_minor": 0,
  "metadata": {
    "colab": {
      "provenance": []
    },
    "kernelspec": {
      "name": "python3",
      "display_name": "Python 3"
    },
    "language_info": {
      "name": "python"
    }
  },
  "cells": [
    {
      "cell_type": "markdown",
      "source": [
        "# **Interview Questions 1 - Python**"
      ],
      "metadata": {
        "id": "FEHogEzrndwP"
      }
    },
    {
      "cell_type": "markdown",
      "source": [
        "**Conversion 1: Array to DataFrame**"
      ],
      "metadata": {
        "id": "v_UvO4GrniR2"
      }
    },
    {
      "cell_type": "markdown",
      "source": [
        "    Example 1"
      ],
      "metadata": {
        "id": "ljlDnDWRnpvO"
      }
    },
    {
      "cell_type": "code",
      "execution_count": 2,
      "metadata": {
        "colab": {
          "base_uri": "https://localhost:8080/",
          "height": 0
        },
        "id": "BTvcm1HXnPIQ",
        "outputId": "1f211c80-f40f-43bd-bb98-2d87b2dde205"
      },
      "outputs": [
        {
          "output_type": "stream",
          "name": "stdout",
          "text": [
            "   Subject 1  Subject 2  Subject 3\n",
            "0         11         22         33\n",
            "1         44         55         66\n"
          ]
        }
      ],
      "source": [
        "import numpy as np\n",
        "import pandas as pd\n",
        "\n",
        "marks = np.array([[11, 22, 33], [44, 55, 66]])\n",
        "df = pd.DataFrame(marks, columns = ['Subject 1', 'Subject 2', 'Subject 3'])\n",
        "\n",
        "print(df)"
      ]
    },
    {
      "cell_type": "code",
      "source": [
        "import numpy as np\n",
        "import pandas as pd\n",
        "\n",
        "marks = np.array([[11, 22, 33], [44, 55, 66]])\n",
        "df = pd.DataFrame(marks, columns = ['Subject 1', 'Subject 2', 'Subject 3'], index = ['Anu', 'John'])\n",
        "\n",
        "print(df)"
      ],
      "metadata": {
        "colab": {
          "base_uri": "https://localhost:8080/",
          "height": 0
        },
        "id": "Z0TeCTenoMBA",
        "outputId": "9258382b-c12a-45ca-8235-87d89c769934"
      },
      "execution_count": 3,
      "outputs": [
        {
          "output_type": "stream",
          "name": "stdout",
          "text": [
            "      Subject 1  Subject 2  Subject 3\n",
            "Anu          11         22         33\n",
            "John         44         55         66\n"
          ]
        }
      ]
    },
    {
      "cell_type": "markdown",
      "source": [
        "    Example 2"
      ],
      "metadata": {
        "id": "57-RrsZgoX4G"
      }
    },
    {
      "cell_type": "code",
      "source": [
        "import numpy as np\n",
        "import pandas as pd\n",
        "\n",
        "student_details = np.array([['jon', 25, 1995,2026], ['Maria', 47, 1973, 2000], ['Bill', 38, 1982, 2005]], dtype = object)\n",
        "df = pd.DataFrame(student_details, columns = ['Name', 'Age', 'Birth Year', 'Graduation Year'])\n",
        "\n",
        "print(df)"
      ],
      "metadata": {
        "colab": {
          "base_uri": "https://localhost:8080/",
          "height": 0
        },
        "id": "mucPws8foccX",
        "outputId": "7e38589e-3caf-4582-e410-9177677e9361"
      },
      "execution_count": 4,
      "outputs": [
        {
          "output_type": "stream",
          "name": "stdout",
          "text": [
            "    Name Age Birth Year Graduation Year\n",
            "0    jon  25       1995            2026\n",
            "1  Maria  47       1973            2000\n",
            "2   Bill  38       1982            2005\n"
          ]
        }
      ]
    },
    {
      "cell_type": "code",
      "source": [
        "import numpy as np\n",
        "import pandas as pd\n",
        "\n",
        "student_details = np.array([['jon', 25, 1995,2026], ['Maria', 47, 1973, 2000], ['Bill', 38, 1982, 2005]], dtype = object)\n",
        "df = pd.DataFrame(student_details, columns = ['Name', 'Age', 'Birth Year', 'Graduation Year'])\n",
        "\n",
        "print(df)\n",
        "print(type(df))\n",
        "print(df.dtypes)"
      ],
      "metadata": {
        "colab": {
          "base_uri": "https://localhost:8080/",
          "height": 0
        },
        "id": "S9gjoaqSpLGg",
        "outputId": "a9da99d2-54ef-474a-d7e1-d52f759d6bfb"
      },
      "execution_count": 5,
      "outputs": [
        {
          "output_type": "stream",
          "name": "stdout",
          "text": [
            "    Name Age Birth Year Graduation Year\n",
            "0    jon  25       1995            2026\n",
            "1  Maria  47       1973            2000\n",
            "2   Bill  38       1982            2005\n",
            "<class 'pandas.core.frame.DataFrame'>\n",
            "Name               object\n",
            "Age                object\n",
            "Birth Year         object\n",
            "Graduation Year    object\n",
            "dtype: object\n"
          ]
        }
      ]
    },
    {
      "cell_type": "code",
      "source": [
        "import numpy as np\n",
        "import pandas as pd\n",
        "\n",
        "student_details = np.array([['jon', 25, 1995,2026], ['Maria', 47, 1973, 2000], ['Bill', 38, 1982, 2005]], dtype = object)\n",
        "df = pd.DataFrame(student_details, columns = ['Name', 'Age', 'Birth Year', 'Graduation Year'])\n",
        "\n",
        "df['Age'] = df['Age'].astype(int)\n",
        "df['Birth Year'] = df['Birth Year'].astype(int)\n",
        "df['Graduation Year'] = df['Graduation Year'].astype(int)\n",
        "\n",
        "print(df)\n",
        "print(type(df))\n",
        "print(df.dtypes)"
      ],
      "metadata": {
        "colab": {
          "base_uri": "https://localhost:8080/",
          "height": 0
        },
        "id": "yJAKkL3BpW42",
        "outputId": "3d534a53-fc69-4615-9a10-6efa85a3298e"
      },
      "execution_count": 6,
      "outputs": [
        {
          "output_type": "stream",
          "name": "stdout",
          "text": [
            "    Name  Age  Birth Year  Graduation Year\n",
            "0    jon   25        1995             2026\n",
            "1  Maria   47        1973             2000\n",
            "2   Bill   38        1982             2005\n",
            "<class 'pandas.core.frame.DataFrame'>\n",
            "Name               object\n",
            "Age                 int64\n",
            "Birth Year          int64\n",
            "Graduation Year     int64\n",
            "dtype: object\n"
          ]
        }
      ]
    },
    {
      "cell_type": "markdown",
      "source": [
        "    Example 3"
      ],
      "metadata": {
        "id": "5ZDlYWNypxmI"
      }
    },
    {
      "cell_type": "code",
      "source": [
        "import numpy as np\n",
        "import pandas as pd\n",
        "\n",
        "# create pandas as DataFrame\n",
        "df = pd.DataFrame({'Game 1': [25, 12, 15, 14, 19, 23, 25, 29],\n",
        "                   'Game 2': [5, 7, 7, 9, 12, 9, 9, 4],\n",
        "                   'Game 3': [11, 8, 10, 6, 6, 5, 9, 12]})\n",
        "\n",
        "# create NumPy array for Game 4\n",
        "Game4 = np.array([2, 3, 1, 0, 2, 7, 8, 2])\n",
        "\n",
        "# add 'Game 4' array as new column in DataFrame\n",
        "df['Game 4'] = Game4.tolist()\n",
        "\n",
        "# display the DataFrame\n",
        "print(df)"
      ],
      "metadata": {
        "colab": {
          "base_uri": "https://localhost:8080/",
          "height": 0
        },
        "id": "MPZEUILPpz0-",
        "outputId": "7a3ad3b5-1c23-4181-a08e-5beda7a442fb"
      },
      "execution_count": 7,
      "outputs": [
        {
          "output_type": "stream",
          "name": "stdout",
          "text": [
            "   Game 1  Game 2  Game 3  Game 4\n",
            "0      25       5      11       2\n",
            "1      12       7       8       3\n",
            "2      15       7      10       1\n",
            "3      14       9       6       0\n",
            "4      19      12       6       2\n",
            "5      23       9       5       7\n",
            "6      25       9       9       8\n",
            "7      29       4      12       2\n"
          ]
        }
      ]
    }
  ]
}