{
  "nbformat": 4,
  "nbformat_minor": 0,
  "metadata": {
    "colab": {
      "provenance": []
    },
    "kernelspec": {
      "name": "python3",
      "display_name": "Python 3"
    },
    "language_info": {
      "name": "python"
    }
  },
  "cells": [
    {
      "cell_type": "markdown",
      "source": [
        "# **Interview Questions 1 - Python**"
      ],
      "metadata": {
        "id": "OkIF7Dzxw7oq"
      }
    },
    {
      "cell_type": "markdown",
      "source": [
        "**Conversion 3 - List to Tuple**"
      ],
      "metadata": {
        "id": "hzBLNk-cxB5x"
      }
    },
    {
      "cell_type": "markdown",
      "source": [
        "**Using tuple() function**"
      ],
      "metadata": {
        "id": "J2EyuVodxIi4"
      }
    },
    {
      "cell_type": "code",
      "execution_count": 1,
      "metadata": {
        "colab": {
          "base_uri": "https://localhost:8080/",
          "height": 0
        },
        "id": "ykm8QU8IwyBv",
        "outputId": "3590bce0-ad70-4e10-e629-3019efac2f72"
      },
      "outputs": [
        {
          "output_type": "stream",
          "name": "stdout",
          "text": [
            "(45, 98, 23, 76, 38, 62)\n"
          ]
        }
      ],
      "source": [
        "Marks = [45, 98, 23, 76, 38, 62]\n",
        "Marks_tuple = tuple(Marks)\n",
        "print(Marks_tuple)"
      ]
    },
    {
      "cell_type": "markdown",
      "source": [
        "**Using loop**"
      ],
      "metadata": {
        "id": "Chq2VIktxZ1A"
      }
    },
    {
      "cell_type": "code",
      "source": [
        "Marks = [45, 98, 23, 76, 38, 62]\n",
        "Marks_tuple = tuple(i for i in Marks)\n",
        "print(Marks_tuple)"
      ],
      "metadata": {
        "colab": {
          "base_uri": "https://localhost:8080/",
          "height": 0
        },
        "id": "8NkLzmWRxczo",
        "outputId": "1ea131fb-cf9a-4d15-a30e-679d230998b9"
      },
      "execution_count": 2,
      "outputs": [
        {
          "output_type": "stream",
          "name": "stdout",
          "text": [
            "(45, 98, 23, 76, 38, 62)\n"
          ]
        }
      ]
    },
    {
      "cell_type": "markdown",
      "source": [
        "# **Extract Dictionary Values as a List**"
      ],
      "metadata": {
        "id": "SCdgeTV8xjMY"
      }
    },
    {
      "cell_type": "markdown",
      "source": [
        "**Example 1**"
      ],
      "metadata": {
        "id": "CWIT0QYdxnq6"
      }
    },
    {
      "cell_type": "code",
      "source": [
        "my_dict = {'A': 300, 'B': 150, 'C': 500, 'D': 850, 'E': 400}\n",
        "my_list = list(my_dict.values())\n",
        "print(my_list)"
      ],
      "metadata": {
        "colab": {
          "base_uri": "https://localhost:8080/",
          "height": 0
        },
        "id": "D_uWIRdGxshR",
        "outputId": "6b5aaa63-31c6-4348-f22c-2c6069e3c873"
      },
      "execution_count": 4,
      "outputs": [
        {
          "output_type": "stream",
          "name": "stdout",
          "text": [
            "[300, 150, 500, 850, 400]\n"
          ]
        }
      ]
    },
    {
      "cell_type": "markdown",
      "source": [
        "**Using list comprehension**"
      ],
      "metadata": {
        "id": "tJT4lCjkyE6c"
      }
    },
    {
      "cell_type": "code",
      "source": [
        "my_dict = {'A': 300, 'B': 150, 'C': 500, 'D': 850, 'E': 400}\n",
        "my_list = list(i for i in my_dict.values())\n",
        "print(my_list)"
      ],
      "metadata": {
        "colab": {
          "base_uri": "https://localhost:8080/",
          "height": 0
        },
        "id": "HDKK-APKyJ5R",
        "outputId": "98d113ff-39b5-4560-a428-1c687dfbbf3b"
      },
      "execution_count": 5,
      "outputs": [
        {
          "output_type": "stream",
          "name": "stdout",
          "text": [
            "[300, 150, 500, 850, 400]\n"
          ]
        }
      ]
    },
    {
      "cell_type": "markdown",
      "source": [
        "**Example 2**"
      ],
      "metadata": {
        "id": "4Sx8XhAXyOv6"
      }
    },
    {
      "cell_type": "code",
      "source": [
        "my_dict = {'A':[300, 305, 310], 'B':[150, 155, 160], 'C':[500, 505, 510]}\n",
        "my_list = list(my_dict.values())\n",
        "print(my_list)"
      ],
      "metadata": {
        "colab": {
          "base_uri": "https://localhost:8080/",
          "height": 0
        },
        "id": "GoMPxyXJyQlB",
        "outputId": "ad520eff-321e-4b90-bf81-3774cf100d72"
      },
      "execution_count": 7,
      "outputs": [
        {
          "output_type": "stream",
          "name": "stdout",
          "text": [
            "[[300, 305, 310], [150, 155, 160], [500, 505, 510]]\n"
          ]
        }
      ]
    },
    {
      "cell_type": "markdown",
      "source": [
        "**Dictionary to List**"
      ],
      "metadata": {
        "id": "xznKG7IayofR"
      }
    },
    {
      "cell_type": "markdown",
      "source": [
        "**Using list and items() method**"
      ],
      "metadata": {
        "id": "-HpWrmgnyruh"
      }
    },
    {
      "cell_type": "code",
      "source": [
        "inputDictionary = {'Hello': 10, 'HopeAI': 20, 'python': 30}\n",
        "result_list = list(inputDictionary.items())\n",
        "print(result_list)"
      ],
      "metadata": {
        "colab": {
          "base_uri": "https://localhost:8080/",
          "height": 0
        },
        "id": "HfnpSaYtyvqB",
        "outputId": "5eb0dc54-24fa-469a-80c5-8251f1b2b16e"
      },
      "execution_count": 8,
      "outputs": [
        {
          "output_type": "stream",
          "name": "stdout",
          "text": [
            "[('Hello', 10), ('HopeAI', 20), ('python', 30)]\n"
          ]
        }
      ]
    },
    {
      "cell_type": "markdown",
      "source": [
        "**Using keys method**"
      ],
      "metadata": {
        "id": "7RoIoOCIzCeQ"
      }
    },
    {
      "cell_type": "code",
      "source": [
        "inputDictionary = {'Hello': 10, 'HopeAI': 20, 'python': 30}\n",
        "result_list = list(inputDictionary.keys())\n",
        "print(result_list)"
      ],
      "metadata": {
        "colab": {
          "base_uri": "https://localhost:8080/",
          "height": 0
        },
        "id": "VgA87npTzHeS",
        "outputId": "eb0f0d25-36d0-4ca8-c3ff-78a9ac15b3d2"
      },
      "execution_count": 9,
      "outputs": [
        {
          "output_type": "stream",
          "name": "stdout",
          "text": [
            "['Hello', 'HopeAI', 'python']\n"
          ]
        }
      ]
    },
    {
      "cell_type": "markdown",
      "source": [
        "**Using values method**"
      ],
      "metadata": {
        "id": "otaY6ednzMCA"
      }
    },
    {
      "cell_type": "code",
      "source": [
        "inputDictionary = {'Hello': 10, 'HopeAI': 20, 'python': 30}\n",
        "result_list = list(inputDictionary.values())\n",
        "print(result_list)"
      ],
      "metadata": {
        "colab": {
          "base_uri": "https://localhost:8080/",
          "height": 0
        },
        "id": "_mX4QezhzPzq",
        "outputId": "3e09f4ef-f091-458d-e4c2-d14abc1eee01"
      },
      "execution_count": 10,
      "outputs": [
        {
          "output_type": "stream",
          "name": "stdout",
          "text": [
            "[10, 20, 30]\n"
          ]
        }
      ]
    },
    {
      "cell_type": "markdown",
      "source": [
        "**Using list comprehension**"
      ],
      "metadata": {
        "id": "VK2kZ3bszZfq"
      }
    },
    {
      "cell_type": "code",
      "source": [
        "inputDictionary = {'Hello': 10, 'HopeAI': 20, 'python': 30}\n",
        "result_list = [(key,value) for key, value in inputDictionary.items()]\n",
        "print(result_list)"
      ],
      "metadata": {
        "colab": {
          "base_uri": "https://localhost:8080/",
          "height": 0
        },
        "id": "H0rO2ANAzTaa",
        "outputId": "8dda4154-c347-4a98-8eee-dee3c3a41629"
      },
      "execution_count": 11,
      "outputs": [
        {
          "output_type": "stream",
          "name": "stdout",
          "text": [
            "[('Hello', 10), ('HopeAI', 20), ('python', 30)]\n"
          ]
        }
      ]
    },
    {
      "cell_type": "markdown",
      "source": [
        "**Using zip method**"
      ],
      "metadata": {
        "id": "yrkSNaGdzosZ"
      }
    },
    {
      "cell_type": "code",
      "source": [
        "inputDictionary = {'Hello': 10, 'HopeAI': 20, 'python': 30}\n",
        "result_list = zip(inputDictionary.items(), inputDictionary.values())\n",
        "result_list = list(result_list)\n",
        "print(result_list)"
      ],
      "metadata": {
        "colab": {
          "base_uri": "https://localhost:8080/",
          "height": 0
        },
        "id": "eh_hLZEkzKXt",
        "outputId": "8c35c17a-81ee-4042-d451-de1e550a4689"
      },
      "execution_count": 13,
      "outputs": [
        {
          "output_type": "stream",
          "name": "stdout",
          "text": [
            "[(('Hello', 10), 10), (('HopeAI', 20), 20), (('python', 30), 30)]\n"
          ]
        }
      ]
    },
    {
      "cell_type": "markdown",
      "source": [
        "**Using map() function**"
      ],
      "metadata": {
        "id": "zf3hIx8bz8zq"
      }
    },
    {
      "cell_type": "code",
      "source": [
        "inputDictionary = {'Hello': 10, 'HopeAI': 20, 'python': 30}\n",
        "result_list = newlist = list(map(list,inputDictionary.items()))\n",
        "print(result_list)"
      ],
      "metadata": {
        "colab": {
          "base_uri": "https://localhost:8080/",
          "height": 0
        },
        "id": "8ZzzacoD0JqT",
        "outputId": "6b319c83-f0e0-4c76-c07f-4628185325fd"
      },
      "execution_count": 14,
      "outputs": [
        {
          "output_type": "stream",
          "name": "stdout",
          "text": [
            "[['Hello', 10], ['HopeAI', 20], ['python', 30]]\n"
          ]
        }
      ]
    }
  ]
}