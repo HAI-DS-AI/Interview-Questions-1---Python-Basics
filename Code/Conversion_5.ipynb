{
  "nbformat": 4,
  "nbformat_minor": 0,
  "metadata": {
    "colab": {
      "provenance": []
    },
    "kernelspec": {
      "name": "python3",
      "display_name": "Python 3"
    },
    "language_info": {
      "name": "python"
    }
  },
  "cells": [
    {
      "cell_type": "markdown",
      "source": [
        "# **Interview Questions 1 - Python**"
      ],
      "metadata": {
        "id": "8qOQJk1U5ith"
      }
    },
    {
      "cell_type": "markdown",
      "source": [
        "**Conversion 5**"
      ],
      "metadata": {
        "id": "BcDfSNKC5sQD"
      }
    },
    {
      "cell_type": "markdown",
      "source": [
        "**Convert ASCII value to characters**"
      ],
      "metadata": {
        "id": "lHDSIFJF5xcD"
      }
    },
    {
      "cell_type": "code",
      "execution_count": 1,
      "metadata": {
        "colab": {
          "base_uri": "https://localhost:8080/"
        },
        "id": "KQfi5if_5h6a",
        "outputId": "1df80945-19a2-4815-862c-17f04282e9cf"
      },
      "outputs": [
        {
          "output_type": "stream",
          "name": "stdout",
          "text": [
            "A\n",
            "M\n"
          ]
        }
      ],
      "source": [
        "a = chr(65)\n",
        "b = chr(77)\n",
        "\n",
        "print(a)\n",
        "print(b)"
      ]
    },
    {
      "cell_type": "markdown",
      "source": [
        "**Converting integer to float using implicit function**"
      ],
      "metadata": {
        "id": "MU-FsRMc595S"
      }
    },
    {
      "cell_type": "code",
      "source": [
        "num1 = 12\n",
        "num2 = 1.23\n",
        "\n",
        "new_num = num1 + num2\n",
        "\n",
        "# display new value and resulting data type\n",
        "print(\"Value:\", new_num)\n",
        "print(\"Data Type:\", type(new_num))"
      ],
      "metadata": {
        "colab": {
          "base_uri": "https://localhost:8080/"
        },
        "id": "rrMBhxFk6FeU",
        "outputId": "c0a9a5f8-36c3-450c-bb34-7a86f242a031"
      },
      "execution_count": 2,
      "outputs": [
        {
          "output_type": "stream",
          "name": "stdout",
          "text": [
            "Value: 13.23\n",
            "Data Type: <class 'float'>\n"
          ]
        }
      ]
    },
    {
      "cell_type": "markdown",
      "source": [
        "**Addition of string and integer using explicit conversion**"
      ],
      "metadata": {
        "id": "1nYXVNXW6aPD"
      }
    },
    {
      "cell_type": "code",
      "source": [
        "num_str = '12'\n",
        "num_int = 23\n",
        "\n",
        "# explicit type conversion\n",
        "num_str = int(num_str)\n",
        "num_sum = num_int + num_str\n",
        "\n",
        "print(\"Sum:\", num_sum)\n",
        "print(\"Data Type:\", type(num_sum))"
      ],
      "metadata": {
        "colab": {
          "base_uri": "https://localhost:8080/"
        },
        "id": "9Uz8k0qk6hLD",
        "outputId": "13989835-bbe5-412e-d1c3-aa2de192bfbd"
      },
      "execution_count": 3,
      "outputs": [
        {
          "output_type": "stream",
          "name": "stdout",
          "text": [
            "Sum: 35\n",
            "Data Type: <class 'int'>\n"
          ]
        }
      ]
    },
    {
      "cell_type": "markdown",
      "source": [
        "**Converting string to numeric types**"
      ],
      "metadata": {
        "id": "8Xb6p60i66br"
      }
    },
    {
      "cell_type": "code",
      "source": [
        "str_num = '56'\n",
        "print(int(str_num))  # default base is 10\n",
        "print(int(str_num, 16))  # from headecimal\n",
        "print(int(str_num, 12))   # from a number where base is 12\n",
        "str_num = '25.897'\n",
        "print(float(str_num))   # convert string to floating point values"
      ],
      "metadata": {
        "colab": {
          "base_uri": "https://localhost:8080/"
        },
        "id": "GAawVkvU6_gj",
        "outputId": "b76202ce-099f-4bdc-9c06-cc75686c361c"
      },
      "execution_count": 5,
      "outputs": [
        {
          "output_type": "stream",
          "name": "stdout",
          "text": [
            "56\n",
            "86\n",
            "66\n",
            "25.897\n"
          ]
        }
      ]
    },
    {
      "cell_type": "markdown",
      "source": [
        "**String to character converting and base converting**"
      ],
      "metadata": {
        "id": "y6Xa3XpG7mZd"
      }
    },
    {
      "cell_type": "code",
      "source": [
        "print('AsCII value of \"M\" :', str(ord('M')))\n",
        "print('Hexadecimal value of 254 is :', str(hex(254)))\n",
        "print('Octal value of 62 is :', str(oct(62)))\n",
        "print('Binary value of 56 is :', str(bin(56)))"
      ],
      "metadata": {
        "colab": {
          "base_uri": "https://localhost:8080/"
        },
        "id": "IRdNCpGO7uxr",
        "outputId": "2d98a0ef-050a-4e36-f0a1-9a9d0cca67ef"
      },
      "execution_count": 9,
      "outputs": [
        {
          "output_type": "stream",
          "name": "stdout",
          "text": [
            "AsCII value of \"M\" : 77\n",
            "Hexadecimal value of 254 is : 0xfe\n",
            "Octal value of 62 is : 0o76\n",
            "Binary value of 56 is : 0b111000\n"
          ]
        }
      ]
    },
    {
      "cell_type": "markdown",
      "source": [
        "**Converting containers**"
      ],
      "metadata": {
        "id": "ontSFTyh8Qgu"
      }
    },
    {
      "cell_type": "code",
      "source": [
        "my_list = [10, 20, 30, 40, 50]\n",
        "my_set = { 10, 10, 20, 30, 20, 50, 20}\n",
        "my_tuple = (10, 25, 50, 75, 100)\n",
        "print('list to tuple:', str(tuple(my_list)))\n",
        "print('list to set:', str(set(my_list)))\n",
        "print('set to list:', str(list(my_list)))\n",
        "print('set to tuple:', str(tuple(my_list)))\n",
        "print('tuple to list:', str(list(my_list)))\n",
        "print('tuple to set:', str(set(my_list)))"
      ],
      "metadata": {
        "colab": {
          "base_uri": "https://localhost:8080/"
        },
        "id": "7drdn0tw9lsq",
        "outputId": "eeb0ce55-5b10-446e-d0d5-52b4af33e6f6"
      },
      "execution_count": 11,
      "outputs": [
        {
          "output_type": "stream",
          "name": "stdout",
          "text": [
            "list to tuple: (10, 20, 30, 40, 50)\n",
            "list to set: {40, 10, 50, 20, 30}\n",
            "set to list: [10, 20, 30, 40, 50]\n",
            "set to tuple: (10, 20, 30, 40, 50)\n",
            "tuple to list: [10, 20, 30, 40, 50]\n",
            "tuple to set: {40, 10, 50, 20, 30}\n"
          ]
        }
      ]
    },
    {
      "cell_type": "markdown",
      "source": [
        "**Convert to complex number**"
      ],
      "metadata": {
        "id": "sdZWeG3G-gGM"
      }
    },
    {
      "cell_type": "code",
      "source": [
        "my_complex = complex(10, 5)\n",
        "print(my_complex)"
      ],
      "metadata": {
        "colab": {
          "base_uri": "https://localhost:8080/"
        },
        "id": "WbdW9OHi-n7s",
        "outputId": "361d0a3c-d18e-4cff-beef-50d672c0d580"
      },
      "execution_count": 12,
      "outputs": [
        {
          "output_type": "stream",
          "name": "stdout",
          "text": [
            "(10+5j)\n"
          ]
        }
      ]
    },
    {
      "cell_type": "markdown",
      "source": [
        "**Using ord() function**"
      ],
      "metadata": {
        "id": "sm_58I5B-tym"
      }
    },
    {
      "cell_type": "code",
      "source": [
        "a = '+'\n",
        "b = 'A'\n",
        "\n",
        "print(ord(a))\n",
        "print(ord(b))"
      ],
      "metadata": {
        "colab": {
          "base_uri": "https://localhost:8080/"
        },
        "id": "2BKs88Bl-xIm",
        "outputId": "2cd60740-2b13-47a0-ced0-512a324a0a83"
      },
      "execution_count": 13,
      "outputs": [
        {
          "output_type": "stream",
          "name": "stdout",
          "text": [
            "43\n",
            "65\n"
          ]
        }
      ]
    },
    {
      "cell_type": "markdown",
      "source": [
        "**Primitive data type conversions**"
      ],
      "metadata": {
        "id": "820gQwsa-6tL"
      }
    },
    {
      "cell_type": "code",
      "source": [
        "import numpy as np\n",
        "\n",
        "x = np.array([1, 2, 2.5])\n",
        "x.astype(int)"
      ],
      "metadata": {
        "colab": {
          "base_uri": "https://localhost:8080/"
        },
        "id": "KEC8FK0Z_DmL",
        "outputId": "e175fd7d-2e7e-4621-f96e-a025051efc4e"
      },
      "execution_count": 14,
      "outputs": [
        {
          "output_type": "execute_result",
          "data": {
            "text/plain": [
              "array([1, 2, 2])"
            ]
          },
          "metadata": {},
          "execution_count": 14
        }
      ]
    },
    {
      "cell_type": "code",
      "source": [
        "# int to float\n",
        "\n",
        "x, y = 3, 4\n",
        "\n",
        "z = float(x + y)\n",
        "\n",
        "print(z)"
      ],
      "metadata": {
        "colab": {
          "base_uri": "https://localhost:8080/"
        },
        "id": "-V2_T0DJ_MYF",
        "outputId": "cfde3263-ff84-4288-f1af-e98a7d3eaf03"
      },
      "execution_count": 21,
      "outputs": [
        {
          "output_type": "stream",
          "name": "stdout",
          "text": [
            "7.0\n"
          ]
        }
      ]
    },
    {
      "cell_type": "code",
      "source": [
        "# float to int\n",
        "\n",
        "x, y = 3.5, 4.8\n",
        "\n",
        "z = int(x + y)\n",
        "\n",
        "print(z)"
      ],
      "metadata": {
        "colab": {
          "base_uri": "https://localhost:8080/"
        },
        "id": "3N00mjLw_WKW",
        "outputId": "7488d1ee-6ff1-44ca-e742-8c68afff5298"
      },
      "execution_count": 20,
      "outputs": [
        {
          "output_type": "stream",
          "name": "stdout",
          "text": [
            "8\n"
          ]
        }
      ]
    },
    {
      "cell_type": "code",
      "source": [
        "# int to str\n",
        "\n",
        "chocolate = 25\n",
        "icecream = 40\n",
        "\n",
        "total = chocolate + icecream\n",
        "\n",
        "print(\"The total is: \" + str(total) + \"$\")"
      ],
      "metadata": {
        "colab": {
          "base_uri": "https://localhost:8080/"
        },
        "id": "TjoBsZ3J_hGe",
        "outputId": "4746106f-388d-4d21-cd62-3a241bf04435"
      },
      "execution_count": 19,
      "outputs": [
        {
          "output_type": "stream",
          "name": "stdout",
          "text": [
            "The total is: 65$\n"
          ]
        }
      ]
    }
  ]
}