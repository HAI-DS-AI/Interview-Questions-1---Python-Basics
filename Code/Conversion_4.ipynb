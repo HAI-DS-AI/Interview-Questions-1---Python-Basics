{
  "nbformat": 4,
  "nbformat_minor": 0,
  "metadata": {
    "colab": {
      "provenance": []
    },
    "kernelspec": {
      "name": "python3",
      "display_name": "Python 3"
    },
    "language_info": {
      "name": "python"
    }
  },
  "cells": [
    {
      "cell_type": "markdown",
      "source": [
        "# **Interview Questions 1 - Python**"
      ],
      "metadata": {
        "id": "d80KcklfAKHM"
      }
    },
    {
      "cell_type": "markdown",
      "source": [
        "**Conversion: 4**"
      ],
      "metadata": {
        "id": "goFF3F2mAOO0"
      }
    },
    {
      "cell_type": "markdown",
      "source": [
        "**Set to Tuple**"
      ],
      "metadata": {
        "id": "KjtQafZ5ARuU"
      }
    },
    {
      "cell_type": "code",
      "execution_count": 1,
      "metadata": {
        "colab": {
          "base_uri": "https://localhost:8080/"
        },
        "id": "HBr-dPaXAGiU",
        "outputId": "b3f533e1-6232-43e1-d826-45c2176d0bc7"
      },
      "outputs": [
        {
          "output_type": "stream",
          "name": "stdout",
          "text": [
            "('Python', 'Data Science', 'Machine Learning', 'Deep Learning')\n"
          ]
        }
      ],
      "source": [
        "course = {'Machine Learning', 'Python', 'Data Science', 'Deep Learning'}\n",
        "course_names = tuple(course)\n",
        "print(course_names)"
      ]
    },
    {
      "cell_type": "markdown",
      "source": [
        "**Using list comprehension**"
      ],
      "metadata": {
        "id": "yuUrJ7BEAjPE"
      }
    },
    {
      "cell_type": "code",
      "source": [
        "course = {'Machine Learning', 'Python', 'Data Science', 'Deep Learning'}\n",
        "course_names = [i for i in course]\n",
        "print(course_names)"
      ],
      "metadata": {
        "colab": {
          "base_uri": "https://localhost:8080/"
        },
        "id": "O0krh_KpAotN",
        "outputId": "b77f5426-1444-47e5-b836-75b18cfb3909"
      },
      "execution_count": 2,
      "outputs": [
        {
          "output_type": "stream",
          "name": "stdout",
          "text": [
            "['Python', 'Data Science', 'Machine Learning', 'Deep Learning']\n"
          ]
        }
      ]
    },
    {
      "cell_type": "markdown",
      "source": [
        "**Set to List**"
      ],
      "metadata": {
        "id": "37mQWXVSAwGN"
      }
    },
    {
      "cell_type": "code",
      "source": [
        "course = {'Machine Learning', 'Python', 'Data Science', 'Deep Learning'}\n",
        "course_names = list(course)\n",
        "print(course_names)"
      ],
      "metadata": {
        "colab": {
          "base_uri": "https://localhost:8080/"
        },
        "id": "axnCqDo_AyKN",
        "outputId": "2b6c2cb6-13ab-4625-a167-12ed19542609"
      },
      "execution_count": 3,
      "outputs": [
        {
          "output_type": "stream",
          "name": "stdout",
          "text": [
            "['Python', 'Data Science', 'Machine Learning', 'Deep Learning']\n"
          ]
        }
      ]
    },
    {
      "cell_type": "markdown",
      "source": [
        "**Set to Dictionary**"
      ],
      "metadata": {
        "id": "QVFaLT1ZA2nV"
      }
    },
    {
      "cell_type": "code",
      "source": [
        "list_keys = {1, 2, 3, 4}\n",
        "list_values = ['Mon', 'Tue', 'Wed', 'Thu']\n",
        "new_dict = dict(zip(list_keys, list_values))\n",
        "print(new_dict)"
      ],
      "metadata": {
        "colab": {
          "base_uri": "https://localhost:8080/"
        },
        "id": "aW8eyGbEA45s",
        "outputId": "40dbfce4-147a-4692-bd20-bf3395f5c988"
      },
      "execution_count": 9,
      "outputs": [
        {
          "output_type": "stream",
          "name": "stdout",
          "text": [
            "{1: 'Mon', 2: 'Tue', 3: 'Wed', 4: 'Thu'}\n"
          ]
        }
      ]
    },
    {
      "cell_type": "markdown",
      "source": [
        "**Using dict.fromkeys()**"
      ],
      "metadata": {
        "id": "VZcb9MZcBTJE"
      }
    },
    {
      "cell_type": "code",
      "source": [
        "list_keys = {1, 2, 3, 4}\n",
        "new_dict = dict.fromkeys(list_keys, 'Mon')\n",
        "print(new_dict)"
      ],
      "metadata": {
        "colab": {
          "base_uri": "https://localhost:8080/"
        },
        "id": "_7PN3I19BarV",
        "outputId": "c0e2d1c7-c3b5-4c9a-eab2-8083f1c520e3"
      },
      "execution_count": 6,
      "outputs": [
        {
          "output_type": "stream",
          "name": "stdout",
          "text": [
            "{1: 'Mon', 2: 'Mon', 3: 'Mon', 4: 'Mon'}\n"
          ]
        }
      ]
    },
    {
      "cell_type": "markdown",
      "source": [
        "**Tuple to Set**"
      ],
      "metadata": {
        "id": "PfSm8l1WBn-1"
      }
    },
    {
      "cell_type": "code",
      "source": [
        "course = ('Machine Learning', 'Python', 'Data Science', 'Deep Learning')\n",
        "course_names = set(course)\n",
        "print(course_names)"
      ],
      "metadata": {
        "colab": {
          "base_uri": "https://localhost:8080/"
        },
        "id": "G0FmPtsXBp9c",
        "outputId": "541a11ec-ac26-452f-8e86-ebb1d15bf37a"
      },
      "execution_count": 7,
      "outputs": [
        {
          "output_type": "stream",
          "name": "stdout",
          "text": [
            "{'Python', 'Data Science', 'Machine Learning', 'Deep Learning'}\n"
          ]
        }
      ]
    },
    {
      "cell_type": "markdown",
      "source": [
        "**Tuple to List**"
      ],
      "metadata": {
        "id": "rj7ntAu1BxMk"
      }
    },
    {
      "cell_type": "code",
      "source": [
        "course = ('Machine Learning', 'Python', 'Data Science', 'Deep Learning')\n",
        "course_names = list(course)\n",
        "print(course_names)"
      ],
      "metadata": {
        "colab": {
          "base_uri": "https://localhost:8080/"
        },
        "id": "8yhdZEdABzcm",
        "outputId": "07969fa3-4764-49c6-d9cb-bcb5c0d5ef0d"
      },
      "execution_count": 8,
      "outputs": [
        {
          "output_type": "stream",
          "name": "stdout",
          "text": [
            "['Machine Learning', 'Python', 'Data Science', 'Deep Learning']\n"
          ]
        }
      ]
    }
  ]
}