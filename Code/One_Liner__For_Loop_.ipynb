{
  "nbformat": 4,
  "nbformat_minor": 0,
  "metadata": {
    "colab": {
      "provenance": []
    },
    "kernelspec": {
      "name": "python3",
      "display_name": "Python 3"
    },
    "language_info": {
      "name": "python"
    }
  },
  "cells": [
    {
      "cell_type": "markdown",
      "source": [
        "# **Interview Questions 1 - Python**"
      ],
      "metadata": {
        "id": "ZH4kyQLa3GI2"
      }
    },
    {
      "cell_type": "markdown",
      "source": [
        "**One Liner \"For Loop\"**"
      ],
      "metadata": {
        "id": "KClGYbt33L54"
      }
    },
    {
      "cell_type": "code",
      "execution_count": 1,
      "metadata": {
        "colab": {
          "base_uri": "https://localhost:8080/",
          "height": 0
        },
        "id": "wmg-AOQU00oN",
        "outputId": "bce18fcd-e87e-4cd8-9053-1b528f52bbf6"
      },
      "outputs": [
        {
          "output_type": "execute_result",
          "data": {
            "text/plain": [
              "[4, 8, 12, 14, 16]"
            ]
          },
          "metadata": {},
          "execution_count": 1
        }
      ],
      "source": [
        "List = [2, 4, 6, 7, 8]\n",
        "[l * 2 for l in List]"
      ]
    }
  ]
}