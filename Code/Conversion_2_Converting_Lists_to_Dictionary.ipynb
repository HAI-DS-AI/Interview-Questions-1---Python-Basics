{
  "nbformat": 4,
  "nbformat_minor": 0,
  "metadata": {
    "colab": {
      "provenance": []
    },
    "kernelspec": {
      "name": "python3",
      "display_name": "Python 3"
    },
    "language_info": {
      "name": "python"
    }
  },
  "cells": [
    {
      "cell_type": "markdown",
      "source": [
        "# **Interview Questions 1 - Python**"
      ],
      "metadata": {
        "id": "BzVzJuf9m31m"
      }
    },
    {
      "cell_type": "markdown",
      "source": [
        "**Conversion 2**"
      ],
      "metadata": {
        "id": "rRW9K86HmyTG"
      }
    },
    {
      "cell_type": "markdown",
      "source": [
        "**Example 1: Converting list of tuples to dictionary**"
      ],
      "metadata": {
        "id": "YipNqWB0m-VG"
      }
    },
    {
      "cell_type": "code",
      "execution_count": 1,
      "metadata": {
        "colab": {
          "base_uri": "https://localhost:8080/",
          "height": 0
        },
        "id": "WJRiLhcRmuas",
        "outputId": "8450d14b-7e60-4502-9b83-1a2ac7d676c6"
      },
      "outputs": [
        {
          "output_type": "stream",
          "name": "stdout",
          "text": [
            "{'Abi': 67, 'John': 54}\n"
          ]
        }
      ],
      "source": [
        "Marks = [('Abi', 67), ('John', 54)]\n",
        "Marks_dict = dict(Marks)\n",
        "\n",
        "print(Marks_dict)"
      ]
    },
    {
      "cell_type": "markdown",
      "source": [
        "**Example 2: Converting two lists of same length to a dictionary using dict and zip method**"
      ],
      "metadata": {
        "id": "lkYMHmBknXvv"
      }
    },
    {
      "cell_type": "code",
      "source": [
        "index = [1, 2, 3]\n",
        "courses = ['python', 'machine learning', 'data science']\n",
        "\n",
        "dictionary = dict(zip(index, courses))\n",
        "\n",
        "print(dictionary)"
      ],
      "metadata": {
        "colab": {
          "base_uri": "https://localhost:8080/",
          "height": 0
        },
        "id": "ur16-gjRnTjY",
        "outputId": "ffd5fda1-74b6-4b3b-fa3d-81ae518fb374"
      },
      "execution_count": 2,
      "outputs": [
        {
          "output_type": "stream",
          "name": "stdout",
          "text": [
            "{1: 'python', 2: 'machine learning', 3: 'data science'}\n"
          ]
        }
      ]
    },
    {
      "cell_type": "markdown",
      "source": [
        "**Converting two lists of same length to a dictionary using zip method**"
      ],
      "metadata": {
        "id": "B9VwqouWnyet"
      }
    },
    {
      "cell_type": "code",
      "source": [
        "index = [1, 2, 3]\n",
        "courses = ['python', 'machine learning', 'data science']\n",
        "\n",
        "dictionary = {k: v for k, v in zip(index, courses)}\n",
        "\n",
        "print(dictionary)"
      ],
      "metadata": {
        "colab": {
          "base_uri": "https://localhost:8080/",
          "height": 0
        },
        "id": "Eb_gY9LEn5SG",
        "outputId": "74ceb770-ba31-4438-8196-7022a972cb07"
      },
      "execution_count": 3,
      "outputs": [
        {
          "output_type": "stream",
          "name": "stdout",
          "text": [
            "{1: 'python', 2: 'machine learning', 3: 'data science'}\n"
          ]
        }
      ]
    },
    {
      "cell_type": "markdown",
      "source": [
        "**Example 3**"
      ],
      "metadata": {
        "id": "J-BhWgQsoE7m"
      }
    },
    {
      "cell_type": "code",
      "source": [
        "list1 = [1, 2, 3, 4, 5, 6, 7, 8, 9, 10]\n",
        "square_dict = {n: n*n for n in list1}\n",
        "\n",
        "print(square_dict)"
      ],
      "metadata": {
        "colab": {
          "base_uri": "https://localhost:8080/",
          "height": 0
        },
        "id": "90XXPXnGoIGv",
        "outputId": "caee3ef7-0a04-4ae8-dfb5-1c97117f765c"
      },
      "execution_count": 4,
      "outputs": [
        {
          "output_type": "stream",
          "name": "stdout",
          "text": [
            "{1: 1, 2: 4, 3: 9, 4: 16, 5: 25, 6: 36, 7: 49, 8: 64, 9: 81, 10: 100}\n"
          ]
        }
      ]
    }
  ]
}